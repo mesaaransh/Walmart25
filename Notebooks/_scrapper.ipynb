{
 "cells": [
  {
   "cell_type": "code",
   "execution_count": null,
   "id": "130bf0bc-0ca6-494b-8233-3e8ea20d86e5",
   "metadata": {},
   "outputs": [],
   "source": [
    "'https://www.walmart.com/browse/food/vodka/976759_2975985_8439204_4596432?povid=976759_hubspoke_2975985_Spirits_Vodka_Rweb_Apr_04'\n",
    "https://www.walmart.com/browse/food/imported-beer/976759_2975985_5110387_3820716?povid=976759_hubspoke_2975985_Beer_Importedbeer_Rweb_Apr_04\n",
    "https://www.walmart.com/browse/food/domestic-beer/976759_2975985_5110387_2104158?povid=976759_hubspoke_2975985_Beer_Domesticbeer_Rweb_Apr_04\n",
    "https://www.walmart.com/browse/food/cocktail-mixers/976759_976782_5533811?povid=976759_hubspoke_2975985_Rollbacksandmore_Cocktailmixers_Rweb_Apr_04\n",
    "https://www.walmart.com/browse/food/soda-pop/976759_976782_1001680?povid=976759_hubspoke_1001680_Shopbybrand_ShopAllSoda_Rweb_may_19\n",
    "https://www.walmart.com/browse/food/juices/976759_976782_1001321?povid=976759_hubspoke_1001321_ShopJuicebytype_Alljuice_Rweb_Jan_10\n",
    "\n",
    "https://www.walmart.com/search?q=party%20supplies&typeahead=party%20s"
   ]
  },
  {
   "cell_type": "code",
   "execution_count": 42,
   "id": "ce0f89c0-9129-47e1-b577-6d08bd930437",
   "metadata": {},
   "outputs": [],
   "source": [
    "from zenrows import ZenRowsClient\n",
    "\n",
    "client = ZenRowsClient(\"b6acc8d0bdc6635bbdc57dda48e17796b3702259\")\n",
    "url = \"https://www.walmart.com/search?q=party%20supplies&typeahead=party%20s\"\n",
    "params = {\"autoparse\":\"true\"}\n",
    "\n",
    "response = client.get(url, params=params)"
   ]
  },
  {
   "cell_type": "code",
   "execution_count": 43,
   "id": "ef3c5f19-7896-4302-b25c-d84d4363d7f0",
   "metadata": {},
   "outputs": [],
   "source": [
    "import json\n",
    "\n",
    "with open('partySupplies.json', 'w') as f:\n",
    "    json.dump(response.json(), f, indent=4)\n"
   ]
  },
  {
   "cell_type": "code",
   "execution_count": null,
   "id": "3f4fb2de-fc64-48e8-8ea3-b253b64a94fc",
   "metadata": {},
   "outputs": [],
   "source": []
  }
 ],
 "metadata": {
  "kernelspec": {
   "display_name": "Python 3 (ipykernel)",
   "language": "python",
   "name": "python3"
  },
  "language_info": {
   "codemirror_mode": {
    "name": "ipython",
    "version": 3
   },
   "file_extension": ".py",
   "mimetype": "text/x-python",
   "name": "python",
   "nbconvert_exporter": "python",
   "pygments_lexer": "ipython3",
   "version": "3.10.6"
  }
 },
 "nbformat": 4,
 "nbformat_minor": 5
}
